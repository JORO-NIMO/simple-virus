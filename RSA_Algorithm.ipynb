{
  "nbformat": 4,
  "nbformat_minor": 0,
  "metadata": {
    "colab": {
      "provenance": [],
      "include_colab_link": true
    },
    "kernelspec": {
      "name": "python3",
      "display_name": "Python 3"
    },
    "language_info": {
      "name": "python"
    }
  },
  "cells": [
    {
      "cell_type": "markdown",
      "metadata": {
        "id": "view-in-github",
        "colab_type": "text"
      },
      "source": [
        "<a href=\"https://colab.research.google.com/github/JORO-NIMO/simple-virus/blob/main/RSA_Algorithm.ipynb\" target=\"_parent\"><img src=\"https://colab.research.google.com/assets/colab-badge.svg\" alt=\"Open In Colab\"/></a>"
      ]
    },
    {
      "cell_type": "code",
      "execution_count": null,
      "metadata": {
        "id": "1Nsu0iVeGsTY"
      },
      "outputs": [],
      "source": [
        "# importing the necessary packages\n",
        "import random # package to generate random numbers\n",
        "from sympy import isprime, mod_inverse # package to check if a number is prime\n",
        "from math import gcd # package to calculate the greatest common divisor"
      ]
    },
    {
      "cell_type": "code",
      "source": [
        "# Define a function to generate prime numbers for RSA\n",
        "def generate_prime_candidate(length):\n",
        "    # Generate random bits\n",
        "    p = random.getrandbits(length)\n",
        "    # Apply a mask to set MSB and LSB to 1\n",
        "    p |= (1 << length - 1) | 1\n",
        "    return p\n",
        "\n",
        "def generate_prime_number(length=1024):\n",
        "    p = 4\n",
        "    # Keep generating new prime candidates until one is valid\n",
        "    while not isprime(p):\n",
        "        p = generate_prime_candidate(length)\n",
        "    return p\n",
        "\n",
        "# Define RSA setup function\n",
        "def rsa_setup():\n",
        "    # Generate two large prime numbers p and q\n",
        "    p = generate_prime_number()\n",
        "    q = generate_prime_number()\n",
        "    n = p * q\n",
        "    phi_n = (p - 1) * (q - 1)\n",
        "\n",
        "    # Choose an integer e such that e and phi(n) are coprime\n",
        "    e = 65537  # Commonly used prime number for e\n",
        "    while gcd(e, phi_n) != 1:\n",
        "        # Get a new prime number for e\n",
        "        e = generate_prime_number(16)  # 16 bits is typically enough for e\n",
        "\n",
        "    # Determine d\n",
        "    d = mod_inverse(e, phi_n)\n",
        "\n",
        "    # Return public and private keys\n",
        "    # Public key is (e, n) and private key is (d, n)\n",
        "    return (e, n), (d, n)\n",
        "\n",
        "# Define RSA encryption function\n",
        "def rsa_encrypt(public_key, plaintext):\n",
        "    e, n = public_key\n",
        "    # Convert plaintext to numbers using a simple a=1, b=2, ... z=26 scheme\n",
        "    plaintext_numbers = [ord(char) - 96 for char in plaintext]\n",
        "    # Encrypt plaintext\n",
        "    ciphertext = [pow(char, e, n) for char in plaintext_numbers]\n",
        "    return ciphertext\n",
        "\n",
        "# Define RSA decryption function\n",
        "def rsa_decrypt(private_key, ciphertext):\n",
        "    d, n = private_key\n",
        "    # Decrypt ciphertext\n",
        "    plaintext_numbers = [pow(char, d, n) for char in ciphertext]\n",
        "    # Convert numbers back to text\n",
        "    plaintext = ''.join(chr(char + 96) for char in plaintext_numbers)\n",
        "    return plaintext"
      ],
      "metadata": {
        "id": "lb52MyOJG3Od"
      },
      "execution_count": null,
      "outputs": []
    },
    {
      "cell_type": "code",
      "source": [
        "prime_no = generate_prime_number()\n",
        "print(prime_no)"
      ],
      "metadata": {
        "colab": {
          "base_uri": "https://localhost:8080/"
        },
        "id": "r5qgzk9KlpVL",
        "outputId": "ee8bf036-2f69-41f8-a924-80c10bac10fe"
      },
      "execution_count": null,
      "outputs": [
        {
          "output_type": "stream",
          "name": "stdout",
          "text": [
            "165303793290450928027246857970538096240239676774482265109919095108929861920572449611010788562755122159777782437538784786395772095019257986242191562429460875978653821876014438987871898015192658067256267202316567366095442035819998085858395780009656822170901758399219542511772252219517048168681461582704842626877\n"
          ]
        }
      ]
    },
    {
      "cell_type": "code",
      "source": [
        "# Set up RSA and test\n",
        "public_key, private_key = rsa_setup()\n",
        "message = 'hello'\n",
        "ciphertext = rsa_encrypt(public_key, message)\n",
        "decrypted_message = rsa_decrypt(private_key, ciphertext)\n",
        "\n",
        "print('Public key:', public_key)\n",
        "print('Private key:', private_key)\n",
        "print('Original message:', message)\n",
        "print('Original message converted to numbers:', [ord(char) - 96 for char in 'hello'])\n",
        "print('Encrypted message:', ciphertext)\n",
        "print('Decrypted message:', decrypted_message)"
      ],
      "metadata": {
        "colab": {
          "base_uri": "https://localhost:8080/"
        },
        "id": "BakU1sRoG7JP",
        "outputId": "fa09a5af-021e-42e1-e2e3-c2fe2f1241c1"
      },
      "execution_count": null,
      "outputs": [
        {
          "output_type": "stream",
          "name": "stdout",
          "text": [
            "Public key: (65537, 19547600329546701601835744122406126819756193685880217741307597163835070976989836305614200407053060188986519965835182587728420583383363119974254461511313291980086109427176998367584554823184191689790743167741460851053635290035912803965091077963104921341849486409798105696533427601686445881470823591173945772070435107407438159928611475651625970187655001975068755498706131326211791659343278712921977676954607564544243023750461598559345539722319513850080152111519804135785990261406473509151707857789998520498157934785337456028739801228458863190780436751346199118701315523318328489868533410772456810408658736895121259408699)\n",
            "Private key: (5292470211445087099241244544424894552539083277572342090754261014008720255973078648806298305121526771035854712205006024637275048164462749299222899508014450659850892254388035140980214852412840034539984234377595577171608474394574618819240674540753066577502438116719678768928836220216431873915777252571684602279822486704016558655259427444901054970485890242350343440794129265050747518540744041500630122946332541475287767520550176971183870620028666746535065679729109694293094669316117600752289291119379138218449750910927354954750490127787532269711294762903976891467058420675133817848339044823796120458239622303521000623105, 19547600329546701601835744122406126819756193685880217741307597163835070976989836305614200407053060188986519965835182587728420583383363119974254461511313291980086109427176998367584554823184191689790743167741460851053635290035912803965091077963104921341849486409798105696533427601686445881470823591173945772070435107407438159928611475651625970187655001975068755498706131326211791659343278712921977676954607564544243023750461598559345539722319513850080152111519804135785990261406473509151707857789998520498157934785337456028739801228458863190780436751346199118701315523318328489868533410772456810408658736895121259408699)\n",
            "Original message: hello\n",
            "Original message converted to numbers: [8, 5, 12, 12, 15]\n",
            "Encrypted message: [13121879662448702527410009581138270504630163658845432425897218834516878184508006539568772696263975202124995742509091282961867479172570554627650209484001414601079294286939904912385926069100512957265243282495045491168584383892780729530597171608349061156252234842633720162502392402417136013133208601325822831794811062228994708109815331081966534466836246064776498889795224412207239056131416506282720756793544328805838675567910852402403937138348138194235378792640014928680363418516031186131375020001429810236094201885781518898301665491855180384925168965421374237254329773080447893707532962927751692948030405531768504561088, 11011407491316155552506964998627205481734842253787471131397476387409250965801066864196056220632935943795623933215817183302293759453563058762464300938006927219271502144043142946263555012883071377826309662935107907940404827332255561040803353316179681149524310866096516167433736033083274300002241899040243983935079716703697645993626017243771313896578855726392300234712845455822965605632792968743303667976982000842030391036536879263958280693113462966350906146031257199279765911212590896859913270049644728532951591217158845474506417850327266537471135627288908030760132962210864570212605954252251316879726704095399661688982, 13484577702380793422579096058114264153231657652839352214321639029576338227771028941633778987623446004248111629395271094921316397635717844642493005516442453362074482453879714878446595935520805532157221535115461329560259293665969771746619941817388136895814619547788044074658037338600857719787820407728786791431761141703162946388938604692675263315836205091845974788366160306490437638145762761243112313963170128195203776106051796695936805381549828142821171743357029669900649079234149223205893512453683074374775483019139152867081130390511205152954035079091657300538073669824779077433765562215227426942193976711719567259135, 13484577702380793422579096058114264153231657652839352214321639029576338227771028941633778987623446004248111629395271094921316397635717844642493005516442453362074482453879714878446595935520805532157221535115461329560259293665969771746619941817388136895814619547788044074658037338600857719787820407728786791431761141703162946388938604692675263315836205091845974788366160306490437638145762761243112313963170128195203776106051796695936805381549828142821171743357029669900649079234149223205893512453683074374775483019139152867081130390511205152954035079091657300538073669824779077433765562215227426942193976711719567259135, 2007332833228145215572142629466688026960853951638378956009371358891439118928532215932759643978393827117424783554514533324431698875051878560883104772914837651732190552279363858638964515704293540492531012149750299249780877138541103132144550028767284321761722778992096598934434826420635549615496540150310130752122474622163921313484881763879743008347745369368615833131893719768268164866488925981348201982472117294324808335699567963079242059636247627095637931200426420539893217445745256341149673288482998018558344185920182475422505294321490606877351995709785180530748078211520369008091053071280029249634962576385539749993]\n",
            "Decrypted message: hello\n"
          ]
        }
      ]
    },
    {
      "cell_type": "code",
      "source": [
        "plaintext_numbers = [ord(char) - 96 for char in 'hello']\n",
        "plaintext_numbers"
      ],
      "metadata": {
        "id": "_RqLJEuCr5ZW",
        "colab": {
          "base_uri": "https://localhost:8080/"
        },
        "outputId": "a3fc33ef-4385-4df7-9e4b-26fd25e47030"
      },
      "execution_count": null,
      "outputs": [
        {
          "output_type": "execute_result",
          "data": {
            "text/plain": [
              "[8, 5, 12, 12, 15]"
            ]
          },
          "metadata": {},
          "execution_count": 4
        }
      ]
    },
    {
      "cell_type": "code",
      "source": [
        "pow\n"
      ],
      "metadata": {
        "colab": {
          "base_uri": "https://localhost:8080/"
        },
        "id": "-dXTNzLUPPfd",
        "outputId": "3582a887-4ba7-4e31-8a55-5129856edbcc"
      },
      "execution_count": null,
      "outputs": [
        {
          "output_type": "execute_result",
          "data": {
            "text/plain": [
              "<function pow(base, exp, mod=None)>"
            ]
          },
          "metadata": {},
          "execution_count": 6
        }
      ]
    },
    {
      "cell_type": "code",
      "source": [],
      "metadata": {
        "id": "u2tbQMyUPg9l"
      },
      "execution_count": null,
      "outputs": []
    }
  ]
}